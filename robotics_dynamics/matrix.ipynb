{
 "cells": [
  {
   "cell_type": "code",
   "execution_count": 2,
   "metadata": {},
   "outputs": [],
   "source": [
    "import math\n",
    "import numpy as np\n",
    "import transforms3d as tfs"
   ]
  },
  {
   "cell_type": "code",
   "execution_count": 4,
   "metadata": {},
   "outputs": [
    {
     "name": "stdout",
     "output_type": "stream",
     "text": [
      "[[ 0.70710678 -0.70710678  0.        ]\n",
      " [ 0.70710678  0.70710678  0.        ]\n",
      " [ 0.          0.          1.        ]]\n"
     ]
    }
   ],
   "source": [
    "theta = math.radians(45)\n",
    "R_AB = np.array([math.cos(theta), -math.sin(theta), 0, math.sin(theta), math.cos(theta), 0, 0, 0, 1]).reshape(3, 3)\n",
    "print(R_AB)"
   ]
  },
  {
   "cell_type": "code",
   "execution_count": 7,
   "metadata": {},
   "outputs": [
    {
     "name": "stdout",
     "output_type": "stream",
     "text": [
      "[[1. 0. 0.]\n",
      " [0. 1. 0.]\n",
      " [0. 0. 1.]]\n",
      "[1. 0. 0. 0.]\n",
      "(array([1., 0., 0.]), 0.0)\n",
      "[-1.0000000e+00  1.2246468e-16  0.0000000e+00  0.0000000e+00]\n",
      "[[ 1.0000000e+00  0.0000000e+00  0.0000000e+00]\n",
      " [ 0.0000000e+00  1.0000000e+00  2.4492936e-16]\n",
      " [ 0.0000000e+00 -2.4492936e-16  1.0000000e+00]]\n"
     ]
    }
   ],
   "source": [
    "print(tfs.quaternions.quat2mat([1,0,0,0]))\n",
    "print(tfs.quaternions.mat2quat(np.asarray([[1., 0., 0.],[0., 1., 0.],[0., 0., 1.]])))\n",
    "print(tfs.quaternions.quat2axangle([1,0,0,0]))\n",
    "print(tfs.quaternions.axangle2quat([1,0,0],2*math.pi))\n",
    "print(tfs.quaternions.quat2mat(tfs.quaternions.axangle2quat([1,0,0],2*math.pi)))"
   ]
  },
  {
   "cell_type": "code",
   "execution_count": 12,
   "metadata": {},
   "outputs": [
    {
     "name": "stdout",
     "output_type": "stream",
     "text": [
      "[-1.0000000e+00  1.2246468e-16  0.0000000e+00 -0.0000000e+00]\n",
      "[1. 0. 0. 0.]\n",
      "(0.0, -0.0, 0.0)\n",
      "[[ 1.  0.  0.]\n",
      " [ 0.  1.  0.]\n",
      " [-0.  0.  1.]]\n",
      "(0.0, -0.0, 0.0)\n"
     ]
    }
   ],
   "source": [
    "# 固定轴欧拉角转四元数\n",
    "print(tfs.euler.euler2quat(2*math.pi,0,0,\"sxyz\"))\n",
    "print(tfs.euler.euler2quat(0,0,0,\"sxyz\"))\n",
    "# 四元数转固定轴欧拉角\n",
    "print(tfs.euler.quat2euler([1,0,0,0],\"sxyz\"))\n",
    "# 固定轴欧拉角转旋转矩阵\n",
    "print(tfs.euler.euler2mat(0,0,0,\"sxyz\"))\n",
    "# 旋转矩阵转固定轴欧拉角\n",
    "print(tfs.euler.mat2euler(np.asarray([[1., 0., 0.],[0., 1., 0.],[0., 0., 1.]]),\"sxyz\"))\n",
    "# 固定轴欧拉角轴角\n",
    "print(tfs.euler.euler2axangle(0,0,0,\"sxyz\"))\n",
    "# 轴角转固定轴欧拉角\n",
    "print(tfs.euler.axangle2euler([1,0,0],0.5,\"sxyz\"))"
   ]
  },
  {
   "cell_type": "code",
   "execution_count": 6,
   "metadata": {},
   "outputs": [
    {
     "data": {
      "text/plain": [
       "array([[1., 0., 0., 1.],\n",
       "       [0., 1., 0., 0.],\n",
       "       [0., 0., 1., 1.],\n",
       "       [0., 0., 0., 1.]])"
      ]
     },
     "execution_count": 6,
     "metadata": {},
     "output_type": "execute_result"
    }
   ],
   "source": [
    "R = np.array([[1., 0., 0.], [0., 1., 0.], [0., 0., 1.]])\n",
    "T = np.array([1, 0, 1])\n",
    "np.vstack((np.hstack((R, T.reshape(3, 1))), [0, 0, 0, 1]))"
   ]
  },
  {
   "cell_type": "code",
   "execution_count": 7,
   "metadata": {},
   "outputs": [
    {
     "data": {
      "text/plain": [
       "array([[1., 0., 0., 1.],\n",
       "       [0., 1., 0., 0.],\n",
       "       [0., 0., 1., 1.],\n",
       "       [0., 0., 0., 1.]])"
      ]
     },
     "execution_count": 7,
     "metadata": {},
     "output_type": "execute_result"
    }
   ],
   "source": [
    "tfs.affines.compose(T,R,[1,1,1])"
   ]
  },
  {
   "cell_type": "code",
   "execution_count": 8,
   "metadata": {},
   "outputs": [
    {
     "data": {
      "text/plain": [
       "array([[1., 0., 0., 1.],\n",
       "       [0., 1., 0., 0.],\n",
       "       [0., 0., 1., 1.],\n",
       "       [0., 0., 0., 1.]])"
      ]
     },
     "execution_count": 8,
     "metadata": {},
     "output_type": "execute_result"
    }
   ],
   "source": [
    "R = tfs.quaternions.quat2mat([1, 0, 0, 0])\n",
    "tfs.affines.compose(T, R, [1, 1, 1])"
   ]
  },
  {
   "cell_type": "code",
   "execution_count": null,
   "metadata": {},
   "outputs": [],
   "source": [
    "T_BC = tfs.affines.compose([0,0,3],tfs.euler.euler2mat(math.pi,0,0),[1,1,1])\n",
    "# given a coordinate in space B, multiple to get the coordinate in space C"
   ]
  }
 ],
 "metadata": {
  "kernelspec": {
   "display_name": "base",
   "language": "python",
   "name": "python3"
  },
  "language_info": {
   "codemirror_mode": {
    "name": "ipython",
    "version": 3
   },
   "file_extension": ".py",
   "mimetype": "text/x-python",
   "name": "python",
   "nbconvert_exporter": "python",
   "pygments_lexer": "ipython3",
   "version": "3.9.16"
  },
  "orig_nbformat": 4
 },
 "nbformat": 4,
 "nbformat_minor": 2
}
